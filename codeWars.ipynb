{
 "cells": [
  {
   "cell_type": "code",
   "execution_count": 1,
   "metadata": {},
   "outputs": [
    {
     "name": "stdout",
     "output_type": "stream",
     "text": [
      "camel Case Test\n"
     ]
    }
   ],
   "source": [
    "s = 'camelCaseTest'\n",
    "print(''.join(map(lambda x: x if x.islower() else \" \"+x, s)))\n"
   ]
  },
  {
   "cell_type": "code",
   "execution_count": 2,
   "metadata": {},
   "outputs": [
    {
     "name": "stdout",
     "output_type": "stream",
     "text": [
      "13\n"
     ]
    }
   ],
   "source": [
    "def sum_two_smallest_numbers(numbers):\n",
    "    return sorted(numbers)[0]+sorted(numbers)[1]\n",
    "\n",
    "\n",
    "print(sum_two_smallest_numbers([5, 8, 12, 18, 22]))"
   ]
  },
  {
   "cell_type": "code",
   "execution_count": 19,
   "metadata": {},
   "outputs": [
    {
     "name": "stdout",
     "output_type": "stream",
     "text": [
      "ai\n"
     ]
    }
   ],
   "source": [
    "def solution(text, ending):\n",
    "    return text[-len(ending):]\n",
    "    # if text[-len(ending)] == ending:\n",
    "    #     return True\n",
    "    # else:\n",
    "    #     return False\n",
    "\n",
    "print(solution('samurai','ai'))"
   ]
  },
  {
   "cell_type": "code",
   "execution_count": 17,
   "metadata": {},
   "outputs": [
    {
     "name": "stdout",
     "output_type": "stream",
     "text": [
      "None\n"
     ]
    }
   ],
   "source": [
    "def unique_in_order(sequence):\n",
    "    x = 0\n",
    "    lst = []\n",
    "    for i in sequence:\n",
    "        x=x+1\n",
    "        if x == len(sequence):\n",
    "            break\n",
    "        elif i != sequence[x]:\n",
    "            lst.append(i)\n",
    "\n",
    "\n",
    "print(unique_in_order('ABBCcA'))\n"
   ]
  },
  {
   "cell_type": "code",
   "execution_count": 71,
   "metadata": {},
   "outputs": [
    {
     "name": "stdout",
     "output_type": "stream",
     "text": [
      "['a']\n",
      "['a', 'b']\n",
      "['a', 'b', 'a']\n",
      "['a', 'b', 'a', 'b']\n",
      "2\n",
      "10\n",
      "16\n"
     ]
    }
   ],
   "source": [
    "def duplicate_count(text):\n",
    "    x=0\n",
    "    lst = []\n",
    "    if text == \"\":\n",
    "        return 0\n",
    "    for i in text.lower():\n",
    "        if text.lower().count(i) > 1:\n",
    "            lst.append(i)\n",
    "            print(lst)    \n",
    "    return len(set(lst))\n",
    "\n",
    "\n",
    "    # x = 0\n",
    "    # if text == \"\":\n",
    "    #     return 0\n",
    "    # for i in text:\n",
    "    #     if (len(text) - len(set(text))) == 0:\n",
    "    #         return 0\n",
    "    #     elif text.count(i) > 1:\n",
    "    #         x = x + 1\n",
    "    #         return x\n",
    "    #     else:\n",
    "    #         return 0\n",
    "    # return len(text) - len(set(text))\n",
    "\n",
    "print(duplicate_count(\"abcdeaB\"))\n",
    "\n",
    "print(len(set(\"Indivisibilities\")))\n",
    "print(len(\"Indivisibilities\"))"
   ]
  },
  {
   "cell_type": "code",
   "execution_count": 84,
   "metadata": {},
   "outputs": [
    {
     "name": "stdout",
     "output_type": "stream",
     "text": [
      "0\n"
     ]
    }
   ],
   "source": [
    "def sum_array(arr):\n",
    "    if arr == \"\" or arr == None:\n",
    "        return 0\n",
    "    elif len(arr) <= 2:\n",
    "        return 0\n",
    "    else:\n",
    "        return sum(arr)-max(arr)-min(arr)\n",
    "\n",
    "print(sum_array([]))"
   ]
  },
  {
   "cell_type": "code",
   "execution_count": 87,
   "metadata": {},
   "outputs": [
    {
     "name": "stdout",
     "output_type": "stream",
     "text": [
      "70000 + 2000 + 300 + 4\n"
     ]
    }
   ],
   "source": [
    "def expanded_form(num):\n",
    "    s = []\n",
    "    i = len(str(num)) -1\n",
    "    for n in str(num):\n",
    "        if n != \"0\":\n",
    "            s.append(n + \"0\" * i)\n",
    "        i -= 1\n",
    "    return \" + \".join(s)\n",
    "\n",
    "print(expanded_form(72304))"
   ]
  },
  {
   "cell_type": "code",
   "execution_count": 92,
   "metadata": {},
   "outputs": [
    {
     "name": "stdout",
     "output_type": "stream",
     "text": [
      "False\n"
     ]
    }
   ],
   "source": [
    "def hero(bullets, dragons):\n",
    "    if dragons*2 <= bullets:\n",
    "        return True\n",
    "    else:\n",
    "        return False\n",
    "\n",
    "\n",
    "print(hero(2,5))"
   ]
  },
  {
   "cell_type": "code",
   "execution_count": 115,
   "metadata": {},
   "outputs": [
    {
     "name": "stdout",
     "output_type": "stream",
     "text": [
      "-1\n"
     ]
    }
   ],
   "source": [
    "def dig_pow(n, p):\n",
    "    x = 0\n",
    "    y = p\n",
    "    for i in str(n):\n",
    "        x = x + int(i)**y\n",
    "        y = y+1\n",
    "    if (x/n)-int(x/n) >0:\n",
    "        return -1\n",
    "    else:\n",
    "        return x/n \n",
    "\n",
    "print(dig_pow(92,1))"
   ]
  },
  {
   "cell_type": "code",
   "execution_count": 114,
   "metadata": {},
   "outputs": [
    {
     "name": "stdout",
     "output_type": "stream",
     "text": [
      "the value after the decimal point is not zero\n"
     ]
    }
   ],
   "source": [
    "a = 0.3678\n",
    "\n",
    "if a%1==0:\n",
    "    print(\"the value after the decimal point is zero\")\n",
    "else:\n",
    "    print(\"the value after the decimal point is not zero\")"
   ]
  },
  {
   "cell_type": "code",
   "execution_count": null,
   "metadata": {},
   "outputs": [],
   "source": [
    "def check_for_factor(base, factor):\n",
    "    if base%factor == 0:\n",
    "        return True\n",
    "    else:\n",
    "        return False\n",
    "    # your code here"
   ]
  },
  {
   "cell_type": "code",
   "execution_count": 125,
   "metadata": {},
   "outputs": [
    {
     "name": "stdout",
     "output_type": "stream",
     "text": [
      "2\n"
     ]
    }
   ],
   "source": [
    "def find_uniq(arr):\n",
    "    slst = set(arr)\n",
    "    for i in slst:\n",
    "        if arr.count(i) ==1:\n",
    "            x = i\n",
    "    return x\n",
    "        \n",
    "print(find_uniq([ 1, 1, 1, 2, 1, 1 ]))"
   ]
  },
  {
   "cell_type": "code",
   "execution_count": 207,
   "metadata": {},
   "outputs": [
    {
     "ename": "KeyError",
     "evalue": "1",
     "output_type": "error",
     "traceback": [
      "\u001b[1;31m---------------------------------------------------------------------------\u001b[0m",
      "\u001b[1;31mKeyError\u001b[0m                                  Traceback (most recent call last)",
      "Cell \u001b[1;32mIn[207], line 27\u001b[0m\n\u001b[0;32m     18\u001b[0m         pair_idx[num] \u001b[38;5;241m=\u001b[39m i\n\u001b[0;32m     25\u001b[0m \u001b[38;5;66;03m# print(abs(14690-sum([1234,5678,9012])))\u001b[39;00m\n\u001b[1;32m---> 27\u001b[0m \u001b[38;5;28mprint\u001b[39m(\u001b[43mtwo_sum\u001b[49m\u001b[43m(\u001b[49m\u001b[43m[\u001b[49m\u001b[38;5;241;43m2\u001b[39;49m\u001b[43m,\u001b[49m\u001b[38;5;241;43m2\u001b[39;49m\u001b[43m,\u001b[49m\u001b[38;5;241;43m3\u001b[39;49m\u001b[43m]\u001b[49m\u001b[43m,\u001b[49m\u001b[43m \u001b[49m\u001b[38;5;241;43m4\u001b[39;49m\u001b[43m)\u001b[49m)\n",
      "Cell \u001b[1;32mIn[207], line 17\u001b[0m, in \u001b[0;36mtwo_sum\u001b[1;34m(numbers, target)\u001b[0m\n\u001b[0;32m     15\u001b[0m \u001b[38;5;28;01mfor\u001b[39;00m i, num \u001b[38;5;129;01min\u001b[39;00m \u001b[38;5;28menumerate\u001b[39m(numbers):\n\u001b[0;32m     16\u001b[0m     \u001b[38;5;28;01mif\u001b[39;00m target\u001b[38;5;241m-\u001b[39mi \u001b[38;5;129;01min\u001b[39;00m pair_idx:\n\u001b[1;32m---> 17\u001b[0m         \u001b[38;5;28;01mreturn\u001b[39;00m [i, \u001b[43mpair_idx\u001b[49m\u001b[43m[\u001b[49m\u001b[43mtarget\u001b[49m\u001b[38;5;241;43m-\u001b[39;49m\u001b[43mnum\u001b[49m\u001b[43m]\u001b[49m]\n\u001b[0;32m     18\u001b[0m     pair_idx[num] \u001b[38;5;241m=\u001b[39m i\n",
      "\u001b[1;31mKeyError\u001b[0m: 1"
     ]
    }
   ],
   "source": [
    "def two_sum(numbers, target):\n",
    "    # x = abs(target-sum(numbers))\n",
    "    # y = numbers.index(x)\n",
    "    # lst = []\n",
    "    # for i in range(len(numbers)):\n",
    "    #     lst.append(i)\n",
    "    # lst.pop(y)\n",
    "    # return tuple(lst)\n",
    "    # lst = []\n",
    "    # for i in numbers:\n",
    "    #     if target-i in numbers:\n",
    "    #         lst.append(numbers.index())\n",
    "    # return tuple(lst)\n",
    "    pair_idx = {}\n",
    "    for i, num in enumerate(numbers):\n",
    "        if target-i in pair_idx:\n",
    "            return [i, pair_idx[target-num]]\n",
    "        pair_idx[num] = i\n",
    "\n",
    "\n",
    "\n",
    "\n",
    "        \n",
    "        \n",
    "# print(abs(14690-sum([1234,5678,9012])))\n",
    "\n",
    "print(two_sum([2,2,3], 4))"
   ]
  },
  {
   "cell_type": "code",
   "execution_count": 234,
   "metadata": {},
   "outputs": [
    {
     "name": "stdout",
     "output_type": "stream",
     "text": [
      "How Can Mirrors Be Real If Our Eyes Aren't Real\n"
     ]
    }
   ],
   "source": [
    "def to_jaden_case(string):\n",
    "    import string as st\n",
    "    return st.capwords(string)\n",
    "\n",
    "print(to_jaden_case(\"How can mirrors be real if our eyes aren't real\"))"
   ]
  },
  {
   "cell_type": "code",
   "execution_count": 244,
   "metadata": {},
   "outputs": [
    {
     "name": "stdout",
     "output_type": "stream",
     "text": [
      "HELLO world\n"
     ]
    }
   ],
   "source": [
    "def to_alternating_case(string):\n",
    "    return string.swapcase()\n",
    "\n",
    "print(to_alternating_case(\"hello WORLD\"))"
   ]
  },
  {
   "cell_type": "code",
   "execution_count": 255,
   "metadata": {},
   "outputs": [
    {
     "name": "stdout",
     "output_type": "stream",
     "text": [
      "1110\n"
     ]
    }
   ],
   "source": [
    "def add_binary(a,b):\n",
    "    return bin(a+b).replace('0b','')\n",
    "\n",
    "print(add_binary(5,9))"
   ]
  },
  {
   "cell_type": "code",
   "execution_count": 340,
   "metadata": {},
   "outputs": [
    {
     "name": "stdout",
     "output_type": "stream",
     "text": [
      "Welkom\n"
     ]
    }
   ],
   "source": [
    "def greet(language):\n",
    "    idioma = [ (\"english\", \"Welcome\")\n",
    "                , (\"czech\", \"Vitejte\")\n",
    "                , (\"danish\", \"Velkomst\")\n",
    "                , (\"dutch\", \"Welkom\")\n",
    "                , (\"estonian\", \"Tere tulemast\")\n",
    "                , (\"finnish\", \"Tervetuloa\")\n",
    "                , (\"flemish\", \"Welgekomen\")\n",
    "                , (\"french\", \"Bienvenue\")\n",
    "                , (\"german\", \"Willkommen\")\n",
    "                , (\"irish\", \"Failte\")\n",
    "                , (\"italian\", \"Benvenuto\")\n",
    "                , (\"latvian\", \"Gaidits\")\n",
    "                , (\"lithuanian\", \"Laukiamas\")\n",
    "                , (\"polish\", \"Witamy\")\n",
    "                , (\"spanish\", \"Bienvenido\")\n",
    "                , (\"swedish\", \"Valkommen\")\n",
    "                , (\"welsh\", \"Croeso\")\n",
    "                ]\n",
    "    for i in idioma:\n",
    "        if language == idioma[idioma.index(i)][0]:\n",
    "            return idioma[idioma.index(i)][1]\n",
    "    \n",
    "    if language == '' or type(language) == int:\n",
    "        return 'Welcome'\n",
    "    else:\n",
    "        return 'Welcome'\n",
    "    \n",
    "\n",
    "\n",
    "\n",
    "print(greet('dutch'))\n",
    "\n",
    "\n",
    "\n",
    "# print(lingua[1][1])"
   ]
  },
  {
   "cell_type": "code",
   "execution_count": 344,
   "metadata": {},
   "outputs": [
    {
     "name": "stdout",
     "output_type": "stream",
     "text": [
      "[1, 2]\n"
     ]
    }
   ],
   "source": [
    "def filter_list(l):\n",
    "    lst = []\n",
    "    for i in l:\n",
    "        if type(i) == int and i>=0:\n",
    "            lst.append(i)\n",
    "    return lst\n",
    "# return [i for i in l if not isinstance(i, str)]\n",
    "\n",
    "    \n",
    "\n",
    "print(filter_list([1,2,'a','b']))"
   ]
  },
  {
   "cell_type": "code",
   "execution_count": 355,
   "metadata": {},
   "outputs": [
    {
     "name": "stdout",
     "output_type": "stream",
     "text": [
      "True\n"
     ]
    }
   ],
   "source": [
    "def lovefunc( flower1, flower2 ):\n",
    "    if flower1==flower2:\n",
    "        return False\n",
    "    elif flower1%2 ==0 and flower2%2 >0:\n",
    "        return True\n",
    "    elif flower1%2 >0 and flower2%2 ==0:\n",
    "        return True\n",
    "    else:\n",
    "        return False\n",
    "    \n",
    "    # return (flower1+flower2)%2\n",
    "\n",
    "\n",
    "print(lovefunc(1,2))"
   ]
  },
  {
   "cell_type": "code",
   "execution_count": 360,
   "metadata": {},
   "outputs": [
    {
     "name": "stdout",
     "output_type": "stream",
     "text": [
      "[2, 4, 6]\n"
     ]
    }
   ],
   "source": [
    "def maps(a):\n",
    "    return [x * 2 for x in a]\n",
    "\n",
    "print(maps([1,2,3]))"
   ]
  }
 ],
 "metadata": {
  "kernelspec": {
   "display_name": "Python 3",
   "language": "python",
   "name": "python3"
  },
  "language_info": {
   "codemirror_mode": {
    "name": "ipython",
    "version": 3
   },
   "file_extension": ".py",
   "mimetype": "text/x-python",
   "name": "python",
   "nbconvert_exporter": "python",
   "pygments_lexer": "ipython3",
   "version": "3.11.8"
  }
 },
 "nbformat": 4,
 "nbformat_minor": 2
}
