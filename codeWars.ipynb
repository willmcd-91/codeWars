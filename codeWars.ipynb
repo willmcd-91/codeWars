{
 "cells": [
  {
   "cell_type": "code",
   "execution_count": 1,
   "metadata": {},
   "outputs": [
    {
     "name": "stdout",
     "output_type": "stream",
     "text": [
      "camel Case Test\n"
     ]
    }
   ],
   "source": [
    "s = 'camelCaseTest'\n",
    "print(''.join(map(lambda x: x if x.islower() else \" \"+x, s)))\n"
   ]
  },
  {
   "cell_type": "code",
   "execution_count": 2,
   "metadata": {},
   "outputs": [
    {
     "name": "stdout",
     "output_type": "stream",
     "text": [
      "13\n"
     ]
    }
   ],
   "source": [
    "def sum_two_smallest_numbers(numbers):\n",
    "    return sorted(numbers)[0]+sorted(numbers)[1]\n",
    "\n",
    "\n",
    "print(sum_two_smallest_numbers([5, 8, 12, 18, 22]))"
   ]
  },
  {
   "cell_type": "code",
   "execution_count": 19,
   "metadata": {},
   "outputs": [
    {
     "name": "stdout",
     "output_type": "stream",
     "text": [
      "ai\n"
     ]
    }
   ],
   "source": [
    "def solution(text, ending):\n",
    "    return text[-len(ending):]\n",
    "    # if text[-len(ending)] == ending:\n",
    "    #     return True\n",
    "    # else:\n",
    "    #     return False\n",
    "\n",
    "print(solution('samurai','ai'))"
   ]
  },
  {
   "cell_type": "code",
   "execution_count": 17,
   "metadata": {},
   "outputs": [
    {
     "name": "stdout",
     "output_type": "stream",
     "text": [
      "None\n"
     ]
    }
   ],
   "source": [
    "def unique_in_order(sequence):\n",
    "    x = 0\n",
    "    lst = []\n",
    "    for i in sequence:\n",
    "        x=x+1\n",
    "        if x == len(sequence):\n",
    "            break\n",
    "        elif i != sequence[x]:\n",
    "            lst.append(i)\n",
    "\n",
    "\n",
    "print(unique_in_order('ABBCcA'))\n"
   ]
  },
  {
   "cell_type": "code",
   "execution_count": 71,
   "metadata": {},
   "outputs": [
    {
     "name": "stdout",
     "output_type": "stream",
     "text": [
      "['a']\n",
      "['a', 'b']\n",
      "['a', 'b', 'a']\n",
      "['a', 'b', 'a', 'b']\n",
      "2\n",
      "10\n",
      "16\n"
     ]
    }
   ],
   "source": [
    "def duplicate_count(text):\n",
    "    x=0\n",
    "    lst = []\n",
    "    if text == \"\":\n",
    "        return 0\n",
    "    for i in text.lower():\n",
    "        if text.lower().count(i) > 1:\n",
    "            lst.append(i)\n",
    "            print(lst)    \n",
    "    return len(set(lst))\n",
    "\n",
    "\n",
    "    # x = 0\n",
    "    # if text == \"\":\n",
    "    #     return 0\n",
    "    # for i in text:\n",
    "    #     if (len(text) - len(set(text))) == 0:\n",
    "    #         return 0\n",
    "    #     elif text.count(i) > 1:\n",
    "    #         x = x + 1\n",
    "    #         return x\n",
    "    #     else:\n",
    "    #         return 0\n",
    "    # return len(text) - len(set(text))\n",
    "\n",
    "print(duplicate_count(\"abcdeaB\"))\n",
    "\n",
    "print(len(set(\"Indivisibilities\")))\n",
    "print(len(\"Indivisibilities\"))"
   ]
  },
  {
   "cell_type": "code",
   "execution_count": 84,
   "metadata": {},
   "outputs": [
    {
     "name": "stdout",
     "output_type": "stream",
     "text": [
      "0\n"
     ]
    }
   ],
   "source": [
    "def sum_array(arr):\n",
    "    if arr == \"\" or arr == None:\n",
    "        return 0\n",
    "    elif len(arr) <= 2:\n",
    "        return 0\n",
    "    else:\n",
    "        return sum(arr)-max(arr)-min(arr)\n",
    "\n",
    "print(sum_array([]))"
   ]
  },
  {
   "cell_type": "code",
   "execution_count": 87,
   "metadata": {},
   "outputs": [
    {
     "name": "stdout",
     "output_type": "stream",
     "text": [
      "70000 + 2000 + 300 + 4\n"
     ]
    }
   ],
   "source": [
    "def expanded_form(num):\n",
    "    s = []\n",
    "    i = len(str(num)) -1\n",
    "    for n in str(num):\n",
    "        if n != \"0\":\n",
    "            s.append(n + \"0\" * i)\n",
    "        i -= 1\n",
    "    return \" + \".join(s)\n",
    "\n",
    "print(expanded_form(72304))"
   ]
  },
  {
   "cell_type": "code",
   "execution_count": 92,
   "metadata": {},
   "outputs": [
    {
     "name": "stdout",
     "output_type": "stream",
     "text": [
      "False\n"
     ]
    }
   ],
   "source": [
    "def hero(bullets, dragons):\n",
    "    if dragons*2 <= bullets:\n",
    "        return True\n",
    "    else:\n",
    "        return False\n",
    "\n",
    "\n",
    "print(hero(2,5))"
   ]
  },
  {
   "cell_type": "code",
   "execution_count": 115,
   "metadata": {},
   "outputs": [
    {
     "name": "stdout",
     "output_type": "stream",
     "text": [
      "-1\n"
     ]
    }
   ],
   "source": [
    "def dig_pow(n, p):\n",
    "    x = 0\n",
    "    y = p\n",
    "    for i in str(n):\n",
    "        x = x + int(i)**y\n",
    "        y = y+1\n",
    "    if (x/n)-int(x/n) >0:\n",
    "        return -1\n",
    "    else:\n",
    "        return x/n \n",
    "\n",
    "print(dig_pow(92,1))"
   ]
  },
  {
   "cell_type": "code",
   "execution_count": 114,
   "metadata": {},
   "outputs": [
    {
     "name": "stdout",
     "output_type": "stream",
     "text": [
      "the value after the decimal point is not zero\n"
     ]
    }
   ],
   "source": [
    "a = 0.3678\n",
    "\n",
    "if a%1==0:\n",
    "    print(\"the value after the decimal point is zero\")\n",
    "else:\n",
    "    print(\"the value after the decimal point is not zero\")"
   ]
  }
 ],
 "metadata": {
  "kernelspec": {
   "display_name": "Python 3",
   "language": "python",
   "name": "python3"
  },
  "language_info": {
   "codemirror_mode": {
    "name": "ipython",
    "version": 3
   },
   "file_extension": ".py",
   "mimetype": "text/x-python",
   "name": "python",
   "nbconvert_exporter": "python",
   "pygments_lexer": "ipython3",
   "version": "3.11.8"
  }
 },
 "nbformat": 4,
 "nbformat_minor": 2
}
